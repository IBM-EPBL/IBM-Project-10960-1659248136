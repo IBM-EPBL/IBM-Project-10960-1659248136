{
 "cells": [
  {
   "cell_type": "markdown",
   "metadata": {},
   "source": [
    "MACHINE LEARNING BASED VEHICLE PERFORMANCE ANALYZER"
   ]
  },
  {
   "cell_type": "markdown",
   "metadata": {},
   "source": [
    "DATA PREPROCESSING"
   ]
  },
  {
   "cell_type": "markdown",
   "metadata": {},
   "source": [
    "1. LIB FILES"
   ]
  },
  {
   "cell_type": "code",
   "execution_count": 36,
   "metadata": {},
   "outputs": [],
   "source": [
    "import numpy as np\n",
    "import pandas as pd\n",
    "import matplotlib.pyplot as plt\n",
    "import seaborn as sns"
   ]
  },
  {
   "cell_type": "markdown",
   "metadata": {},
   "source": [
    "2. DATASET LOADING"
   ]
  },
  {
   "cell_type": "code",
   "execution_count": 35,
   "metadata": {},
   "outputs": [],
   "source": [
    "dat=pd.read_csv('./car_performance.csv')"
   ]
  },
  {
   "cell_type": "markdown",
   "metadata": {},
   "source": [
    "3. PRIMARY ANALYSIS"
   ]
  },
  {
   "cell_type": "code",
   "execution_count": 4,
   "metadata": {},
   "outputs": [
    {
     "data": {
      "text/html": [
       "<div>\n",
       "<style scoped>\n",
       "    .dataframe tbody tr th:only-of-type {\n",
       "        vertical-align: middle;\n",
       "    }\n",
       "\n",
       "    .dataframe tbody tr th {\n",
       "        vertical-align: top;\n",
       "    }\n",
       "\n",
       "    .dataframe thead th {\n",
       "        text-align: right;\n",
       "    }\n",
       "</style>\n",
       "<table border=\"1\" class=\"dataframe\">\n",
       "  <thead>\n",
       "    <tr style=\"text-align: right;\">\n",
       "      <th></th>\n",
       "      <th>mpg</th>\n",
       "      <th>cylinders</th>\n",
       "      <th>displacement</th>\n",
       "      <th>horsepower</th>\n",
       "      <th>weight</th>\n",
       "      <th>acceleration</th>\n",
       "      <th>model year</th>\n",
       "      <th>origin</th>\n",
       "      <th>car name</th>\n",
       "    </tr>\n",
       "  </thead>\n",
       "  <tbody>\n",
       "    <tr>\n",
       "      <th>0</th>\n",
       "      <td>18.0</td>\n",
       "      <td>8</td>\n",
       "      <td>307.0</td>\n",
       "      <td>130</td>\n",
       "      <td>3504</td>\n",
       "      <td>12.0</td>\n",
       "      <td>70</td>\n",
       "      <td>1</td>\n",
       "      <td>chevrolet chevelle malibu</td>\n",
       "    </tr>\n",
       "    <tr>\n",
       "      <th>1</th>\n",
       "      <td>15.0</td>\n",
       "      <td>8</td>\n",
       "      <td>350.0</td>\n",
       "      <td>165</td>\n",
       "      <td>3693</td>\n",
       "      <td>11.5</td>\n",
       "      <td>70</td>\n",
       "      <td>1</td>\n",
       "      <td>buick skylark 320</td>\n",
       "    </tr>\n",
       "    <tr>\n",
       "      <th>2</th>\n",
       "      <td>18.0</td>\n",
       "      <td>8</td>\n",
       "      <td>318.0</td>\n",
       "      <td>150</td>\n",
       "      <td>3436</td>\n",
       "      <td>11.0</td>\n",
       "      <td>70</td>\n",
       "      <td>1</td>\n",
       "      <td>plymouth satellite</td>\n",
       "    </tr>\n",
       "    <tr>\n",
       "      <th>3</th>\n",
       "      <td>16.0</td>\n",
       "      <td>8</td>\n",
       "      <td>304.0</td>\n",
       "      <td>150</td>\n",
       "      <td>3433</td>\n",
       "      <td>12.0</td>\n",
       "      <td>70</td>\n",
       "      <td>1</td>\n",
       "      <td>amc rebel sst</td>\n",
       "    </tr>\n",
       "    <tr>\n",
       "      <th>4</th>\n",
       "      <td>17.0</td>\n",
       "      <td>8</td>\n",
       "      <td>302.0</td>\n",
       "      <td>140</td>\n",
       "      <td>3449</td>\n",
       "      <td>10.5</td>\n",
       "      <td>70</td>\n",
       "      <td>1</td>\n",
       "      <td>ford torino</td>\n",
       "    </tr>\n",
       "  </tbody>\n",
       "</table>\n",
       "</div>"
      ],
      "text/plain": [
       "    mpg  cylinders  displacement  horsepower  weight  acceleration  \\\n",
       "0  18.0          8         307.0         130    3504          12.0   \n",
       "1  15.0          8         350.0         165    3693          11.5   \n",
       "2  18.0          8         318.0         150    3436          11.0   \n",
       "3  16.0          8         304.0         150    3433          12.0   \n",
       "4  17.0          8         302.0         140    3449          10.5   \n",
       "\n",
       "   model year  origin                   car name  \n",
       "0          70       1  chevrolet chevelle malibu  \n",
       "1          70       1          buick skylark 320  \n",
       "2          70       1         plymouth satellite  \n",
       "3          70       1              amc rebel sst  \n",
       "4          70       1                ford torino  "
      ]
     },
     "execution_count": 4,
     "metadata": {},
     "output_type": "execute_result"
    }
   ],
   "source": [
    "dat.head()          "
   ]
  },
  {
   "cell_type": "code",
   "execution_count": 6,
   "metadata": {},
   "outputs": [
    {
     "data": {
      "text/plain": [
       "(398, 9)"
      ]
     },
     "execution_count": 6,
     "metadata": {},
     "output_type": "execute_result"
    }
   ],
   "source": [
    "dat.shape"
   ]
  },
  {
   "cell_type": "code",
   "execution_count": 8,
   "metadata": {},
   "outputs": [
    {
     "data": {
      "text/plain": [
       "Index(['mpg', 'cylinders', 'displacement', 'horsepower', 'weight',\n",
       "       'acceleration', 'model year', 'origin', 'car name'],\n",
       "      dtype='object')"
      ]
     },
     "execution_count": 8,
     "metadata": {},
     "output_type": "execute_result"
    }
   ],
   "source": [
    "dat.columns"
   ]
  },
  {
   "cell_type": "code",
   "execution_count": 12,
   "metadata": {},
   "outputs": [
    {
     "name": "stdout",
     "output_type": "stream",
     "text": [
      "<class 'pandas.core.frame.DataFrame'>\n",
      "RangeIndex: 398 entries, 0 to 397\n",
      "Data columns (total 9 columns):\n",
      " #   Column        Non-Null Count  Dtype  \n",
      "---  ------        --------------  -----  \n",
      " 0   mpg           398 non-null    float64\n",
      " 1   cylinders     398 non-null    int64  \n",
      " 2   displacement  398 non-null    float64\n",
      " 3   horsepower    398 non-null    int64  \n",
      " 4   weight        398 non-null    int64  \n",
      " 5   acceleration  398 non-null    float64\n",
      " 6   model year    398 non-null    int64  \n",
      " 7   origin        398 non-null    int64  \n",
      " 8   car name      398 non-null    object \n",
      "dtypes: float64(3), int64(5), object(1)\n",
      "memory usage: 28.1+ KB\n"
     ]
    }
   ],
   "source": [
    "dat.info()"
   ]
  },
  {
   "cell_type": "code",
   "execution_count": 13,
   "metadata": {},
   "outputs": [
    {
     "data": {
      "text/plain": [
       "mpg             129\n",
       "cylinders         5\n",
       "displacement     82\n",
       "horsepower       93\n",
       "weight          351\n",
       "acceleration     95\n",
       "model year       13\n",
       "origin            3\n",
       "car name        305\n",
       "dtype: int64"
      ]
     },
     "execution_count": 13,
     "metadata": {},
     "output_type": "execute_result"
    }
   ],
   "source": [
    "dat.nunique()"
   ]
  },
  {
   "cell_type": "code",
   "execution_count": 14,
   "metadata": {},
   "outputs": [
    {
     "data": {
      "text/plain": [
       "array([1, 3, 2], dtype=int64)"
      ]
     },
     "execution_count": 14,
     "metadata": {},
     "output_type": "execute_result"
    }
   ],
   "source": [
    "dat.origin.unique()"
   ]
  },
  {
   "cell_type": "markdown",
   "metadata": {},
   "source": [
    "4. HANDILING NULL VALUES"
   ]
  },
  {
   "cell_type": "code",
   "execution_count": 15,
   "metadata": {},
   "outputs": [
    {
     "data": {
      "text/plain": [
       "mpg             0\n",
       "cylinders       0\n",
       "displacement    0\n",
       "horsepower      0\n",
       "weight          0\n",
       "acceleration    0\n",
       "model year      0\n",
       "origin          0\n",
       "car name        0\n",
       "dtype: int64"
      ]
     },
     "execution_count": 15,
     "metadata": {},
     "output_type": "execute_result"
    }
   ],
   "source": [
    "dat.isna().sum()"
   ]
  },
  {
   "cell_type": "markdown",
   "metadata": {},
   "source": [
    "5. DROPING COLUMN - CAR_NAMES"
   ]
  },
  {
   "cell_type": "code",
   "execution_count": 18,
   "metadata": {},
   "outputs": [
    {
     "data": {
      "text/html": [
       "<div>\n",
       "<style scoped>\n",
       "    .dataframe tbody tr th:only-of-type {\n",
       "        vertical-align: middle;\n",
       "    }\n",
       "\n",
       "    .dataframe tbody tr th {\n",
       "        vertical-align: top;\n",
       "    }\n",
       "\n",
       "    .dataframe thead th {\n",
       "        text-align: right;\n",
       "    }\n",
       "</style>\n",
       "<table border=\"1\" class=\"dataframe\">\n",
       "  <thead>\n",
       "    <tr style=\"text-align: right;\">\n",
       "      <th></th>\n",
       "      <th>mpg</th>\n",
       "      <th>cylinders</th>\n",
       "      <th>displacement</th>\n",
       "      <th>horsepower</th>\n",
       "      <th>weight</th>\n",
       "      <th>acceleration</th>\n",
       "      <th>model year</th>\n",
       "    </tr>\n",
       "  </thead>\n",
       "  <tbody>\n",
       "    <tr>\n",
       "      <th>0</th>\n",
       "      <td>18.0</td>\n",
       "      <td>8</td>\n",
       "      <td>307.0</td>\n",
       "      <td>130</td>\n",
       "      <td>3504</td>\n",
       "      <td>12.0</td>\n",
       "      <td>70</td>\n",
       "    </tr>\n",
       "    <tr>\n",
       "      <th>1</th>\n",
       "      <td>15.0</td>\n",
       "      <td>8</td>\n",
       "      <td>350.0</td>\n",
       "      <td>165</td>\n",
       "      <td>3693</td>\n",
       "      <td>11.5</td>\n",
       "      <td>70</td>\n",
       "    </tr>\n",
       "    <tr>\n",
       "      <th>2</th>\n",
       "      <td>18.0</td>\n",
       "      <td>8</td>\n",
       "      <td>318.0</td>\n",
       "      <td>150</td>\n",
       "      <td>3436</td>\n",
       "      <td>11.0</td>\n",
       "      <td>70</td>\n",
       "    </tr>\n",
       "    <tr>\n",
       "      <th>3</th>\n",
       "      <td>16.0</td>\n",
       "      <td>8</td>\n",
       "      <td>304.0</td>\n",
       "      <td>150</td>\n",
       "      <td>3433</td>\n",
       "      <td>12.0</td>\n",
       "      <td>70</td>\n",
       "    </tr>\n",
       "    <tr>\n",
       "      <th>4</th>\n",
       "      <td>17.0</td>\n",
       "      <td>8</td>\n",
       "      <td>302.0</td>\n",
       "      <td>140</td>\n",
       "      <td>3449</td>\n",
       "      <td>10.5</td>\n",
       "      <td>70</td>\n",
       "    </tr>\n",
       "  </tbody>\n",
       "</table>\n",
       "</div>"
      ],
      "text/plain": [
       "    mpg  cylinders  displacement  horsepower  weight  acceleration  model year\n",
       "0  18.0          8         307.0         130    3504          12.0          70\n",
       "1  15.0          8         350.0         165    3693          11.5          70\n",
       "2  18.0          8         318.0         150    3436          11.0          70\n",
       "3  16.0          8         304.0         150    3433          12.0          70\n",
       "4  17.0          8         302.0         140    3449          10.5          70"
      ]
     },
     "execution_count": 18,
     "metadata": {},
     "output_type": "execute_result"
    }
   ],
   "source": [
    "dat=dat.iloc[:,:-1]\n",
    "dat.head()"
   ]
  },
  {
   "cell_type": "markdown",
   "metadata": {},
   "source": [
    "6. SPLITTING DATASET TO DEPENDENT AND INDEPENDENT VARIABLES"
   ]
  },
  {
   "cell_type": "code",
   "execution_count": 23,
   "metadata": {},
   "outputs": [],
   "source": [
    "x=dat.iloc[:,1:]\n",
    "y=dat.iloc[:,0]"
   ]
  },
  {
   "cell_type": "code",
   "execution_count": 24,
   "metadata": {},
   "outputs": [
    {
     "data": {
      "text/html": [
       "<div>\n",
       "<style scoped>\n",
       "    .dataframe tbody tr th:only-of-type {\n",
       "        vertical-align: middle;\n",
       "    }\n",
       "\n",
       "    .dataframe tbody tr th {\n",
       "        vertical-align: top;\n",
       "    }\n",
       "\n",
       "    .dataframe thead th {\n",
       "        text-align: right;\n",
       "    }\n",
       "</style>\n",
       "<table border=\"1\" class=\"dataframe\">\n",
       "  <thead>\n",
       "    <tr style=\"text-align: right;\">\n",
       "      <th></th>\n",
       "      <th>cylinders</th>\n",
       "      <th>displacement</th>\n",
       "      <th>horsepower</th>\n",
       "      <th>weight</th>\n",
       "      <th>acceleration</th>\n",
       "      <th>model year</th>\n",
       "    </tr>\n",
       "  </thead>\n",
       "  <tbody>\n",
       "    <tr>\n",
       "      <th>0</th>\n",
       "      <td>8</td>\n",
       "      <td>307.0</td>\n",
       "      <td>130</td>\n",
       "      <td>3504</td>\n",
       "      <td>12.0</td>\n",
       "      <td>70</td>\n",
       "    </tr>\n",
       "    <tr>\n",
       "      <th>1</th>\n",
       "      <td>8</td>\n",
       "      <td>350.0</td>\n",
       "      <td>165</td>\n",
       "      <td>3693</td>\n",
       "      <td>11.5</td>\n",
       "      <td>70</td>\n",
       "    </tr>\n",
       "    <tr>\n",
       "      <th>2</th>\n",
       "      <td>8</td>\n",
       "      <td>318.0</td>\n",
       "      <td>150</td>\n",
       "      <td>3436</td>\n",
       "      <td>11.0</td>\n",
       "      <td>70</td>\n",
       "    </tr>\n",
       "    <tr>\n",
       "      <th>3</th>\n",
       "      <td>8</td>\n",
       "      <td>304.0</td>\n",
       "      <td>150</td>\n",
       "      <td>3433</td>\n",
       "      <td>12.0</td>\n",
       "      <td>70</td>\n",
       "    </tr>\n",
       "    <tr>\n",
       "      <th>4</th>\n",
       "      <td>8</td>\n",
       "      <td>302.0</td>\n",
       "      <td>140</td>\n",
       "      <td>3449</td>\n",
       "      <td>10.5</td>\n",
       "      <td>70</td>\n",
       "    </tr>\n",
       "  </tbody>\n",
       "</table>\n",
       "</div>"
      ],
      "text/plain": [
       "   cylinders  displacement  horsepower  weight  acceleration  model year\n",
       "0          8         307.0         130    3504          12.0          70\n",
       "1          8         350.0         165    3693          11.5          70\n",
       "2          8         318.0         150    3436          11.0          70\n",
       "3          8         304.0         150    3433          12.0          70\n",
       "4          8         302.0         140    3449          10.5          70"
      ]
     },
     "execution_count": 24,
     "metadata": {},
     "output_type": "execute_result"
    }
   ],
   "source": [
    "x.head()"
   ]
  },
  {
   "cell_type": "code",
   "execution_count": 25,
   "metadata": {},
   "outputs": [
    {
     "data": {
      "text/plain": [
       "0    18.0\n",
       "1    15.0\n",
       "2    18.0\n",
       "3    16.0\n",
       "4    17.0\n",
       "Name: mpg, dtype: float64"
      ]
     },
     "execution_count": 25,
     "metadata": {},
     "output_type": "execute_result"
    }
   ],
   "source": [
    "y.head()"
   ]
  },
  {
   "cell_type": "markdown",
   "metadata": {},
   "source": [
    "7. TRAINING AND TESTING"
   ]
  },
  {
   "cell_type": "code",
   "execution_count": 26,
   "metadata": {},
   "outputs": [],
   "source": [
    "from sklearn.model_selection import train_test_split\n",
    "x_train,x_test, y_train, y_test = train_test_split(x,y,test_size=0.2)"
   ]
  },
  {
   "cell_type": "code",
   "execution_count": 27,
   "metadata": {},
   "outputs": [
    {
     "data": {
      "text/plain": [
       "(318, 6)"
      ]
     },
     "execution_count": 27,
     "metadata": {},
     "output_type": "execute_result"
    }
   ],
   "source": [
    "x_train.shape"
   ]
  },
  {
   "cell_type": "code",
   "execution_count": 28,
   "metadata": {},
   "outputs": [
    {
     "data": {
      "text/plain": [
       "(80, 6)"
      ]
     },
     "execution_count": 28,
     "metadata": {},
     "output_type": "execute_result"
    }
   ],
   "source": [
    "x_test.shape"
   ]
  },
  {
   "cell_type": "code",
   "execution_count": 29,
   "metadata": {},
   "outputs": [
    {
     "data": {
      "text/plain": [
       "(318,)"
      ]
     },
     "execution_count": 29,
     "metadata": {},
     "output_type": "execute_result"
    }
   ],
   "source": [
    "y_train.shape"
   ]
  },
  {
   "cell_type": "code",
   "execution_count": 30,
   "metadata": {},
   "outputs": [
    {
     "data": {
      "text/plain": [
       "(80,)"
      ]
     },
     "execution_count": 30,
     "metadata": {},
     "output_type": "execute_result"
    }
   ],
   "source": [
    "y_test.shape"
   ]
  },
  {
   "cell_type": "markdown",
   "metadata": {},
   "source": [
    "8. NORMALIZING VALUES"
   ]
  },
  {
   "cell_type": "code",
   "execution_count": 31,
   "metadata": {},
   "outputs": [],
   "source": [
    "from sklearn.preprocessing import StandardScaler\n",
    "sd = StandardScaler()\n",
    "x_train=sd.fit_transform(x_train)\n",
    "x_test=sd.fit_transform(x_test)"
   ]
  },
  {
   "cell_type": "code",
   "execution_count": 32,
   "metadata": {},
   "outputs": [
    {
     "data": {
      "text/plain": [
       "array([[ 0.33833667,  0.39501758, -0.08957707,  0.39100127, -0.03507182,\n",
       "        -1.40047065],\n",
       "       [ 1.52718818,  1.0823806 ,  0.71737786,  1.09542699, -0.21380323,\n",
       "        -0.03268912],\n",
       "       [-0.85051483, -0.85205532, -0.78893802, -1.19214108, -0.10656439,\n",
       "         1.60864872],\n",
       "       ...,\n",
       "       [ 1.52718818,  2.58475976,  3.27273516,  2.4038191 , -1.64365451,\n",
       "        -0.85335804],\n",
       "       [-0.85051483, -0.50837381, -0.84273501, -0.68258227,  1.39477945,\n",
       "        -0.85335804],\n",
       "       [ 1.52718818,  1.55371524,  1.25534782,  2.09881002, -0.39253464,\n",
       "        -0.57980173]])"
      ]
     },
     "execution_count": 32,
     "metadata": {},
     "output_type": "execute_result"
    }
   ],
   "source": [
    "x_train"
   ]
  },
  {
   "cell_type": "code",
   "execution_count": 33,
   "metadata": {},
   "outputs": [
    {
     "data": {
      "text/plain": [
       "array([[-8.80696034e-01, -1.05702951e+00, -1.12834643e+00,\n",
       "        -1.34056681e+00,  2.53249459e-01,  1.42495121e+00],\n",
       "       [-8.80696034e-01, -6.92842872e-01, -4.63040822e-01,\n",
       "        -5.35470587e-01, -1.35617273e-01,  1.16228740e+00],\n",
       "       [ 2.55685945e-01, -8.88260092e-03, -4.15518993e-01,\n",
       "        -3.74451342e-01, -1.74503946e-01, -1.46435079e+00],\n",
       "       [ 2.55685945e-01,  0.00000000e+00, -5.34323566e-01,\n",
       "        -4.40817382e-01,  2.14362786e-01, -1.46435079e+00],\n",
       "       [-8.80696034e-01, -8.43847087e-01, -1.05706369e+00,\n",
       "        -9.43458539e-01, -2.91163965e-01,  1.68761503e+00],\n",
       "       [-8.80696034e-01, -4.35247445e-01, -4.15518993e-01,\n",
       "        -2.79798137e-01,  9.92096249e-01,  1.68761503e+00],\n",
       "       [ 1.39206792e+00,  2.03411561e+00,  2.38826892e+00,\n",
       "         1.78516488e+00, -1.72997087e+00, -9.39023151e-01],\n",
       "       [ 2.55685945e-01,  2.75360628e-01,  5.96992978e-02,\n",
       "         9.95300208e-01,  2.15869644e+00, -1.51031696e-01],\n",
       "       [-8.80696034e-01, -9.68203500e-01, -9.14498199e-01,\n",
       "        -9.38018699e-01, -2.91163965e-01,  8.99623578e-01],\n",
       "       [ 1.39206792e+00,  9.50438298e-01,  5.34917589e-01,\n",
       "         1.20310207e+00, -5.63370677e-01, -9.39023151e-01],\n",
       "       [ 1.39206792e+00,  2.26506323e+00,  2.79220447e+00,\n",
       "         1.55886756e+00, -2.11883760e+00, -1.46435079e+00],\n",
       "       [-8.80696034e-01, -9.68203500e-01, -1.29467283e+00,\n",
       "        -1.30248794e+00,  7.97662883e-01, -1.51031696e-01],\n",
       "       [-8.80696034e-01, -7.81668881e-01, -4.63040822e-01,\n",
       "        -4.21233960e-01,  1.61428302e+00,  1.68761503e+00],\n",
       "       [ 2.55685945e-01,  2.75360628e-01,  1.36654960e+00,\n",
       "         4.92659051e-01, -7.96690716e-01,  6.36959760e-01],\n",
       "       [-8.80696034e-01, -9.23790495e-01, -9.14498199e-01,\n",
       "        -8.73828595e-01,  9.92096249e-01, -9.39023151e-01],\n",
       "       [-8.80696034e-01, -7.81668881e-01, -4.63040822e-01,\n",
       "        -3.83155085e-01,  1.22541629e+00,  1.68761503e+00],\n",
       "       [ 2.55685945e-01, -1.68769417e-01,  5.96992978e-02,\n",
       "        -5.13248843e-02,  3.69909478e-01,  1.68761503e+00],\n",
       "       [ 1.39206792e+00,  9.23790495e-01,  1.01013588e+00,\n",
       "         7.39627758e-01, -1.53553751e+00, -9.39023151e-01],\n",
       "       [ 1.39206792e+00,  1.33239014e+00,  8.91331307e-01,\n",
       "         1.57518708e+00, -5.63370677e-01, -1.51031696e-01],\n",
       "       [-8.80696034e-01, -9.06025294e-01, -5.81845395e-01,\n",
       "        -8.41189559e-01,  4.08796152e-01, -4.13695514e-01],\n",
       "       [-8.80696034e-01, -9.14907894e-01, -7.00649968e-01,\n",
       "        -8.72740627e-01, -5.24484004e-01,  3.74295941e-01],\n",
       "       [ 1.39206792e+00,  1.62551597e+00,  1.48535417e+00,\n",
       "         6.21039260e-01, -2.11883760e+00, -1.46435079e+00],\n",
       "       [-8.80696034e-01, -9.68203500e-01, -9.38259113e-01,\n",
       "        -1.11209356e+00,  8.36549556e-01,  1.68761503e+00],\n",
       "       [-8.80696034e-01, -6.92842872e-01, -5.10562651e-01,\n",
       "        -8.33573784e-01,  4.08796152e-01, -9.39023151e-01],\n",
       "       [-8.80696034e-01, -8.52729688e-01, -2.96714420e-01,\n",
       "        -6.71466571e-01,  7.97662883e-01, -1.46435079e+00],\n",
       "       [-8.80696034e-01, -1.02149911e+00, -1.31843375e+00,\n",
       "        -1.04137565e+00,  2.62533652e+00,  1.11632123e-01],\n",
       "       [-8.80696034e-01, -5.86251661e-01, -2.96714420e-01,\n",
       "        -4.70192515e-01, -4.85597331e-01,  6.36959760e-01],\n",
       "       [-8.80696034e-01, -4.35247445e-01, -4.63040822e-01,\n",
       "        -2.74358298e-01,  2.14362786e-01,  3.74295941e-01],\n",
       "       [-8.80696034e-01, -9.85968702e-01, -1.08082460e+00,\n",
       "        -1.02505613e+00,  7.19889537e-01,  1.42495121e+00],\n",
       "       [ 1.39206792e+00,  1.77652018e+00,  1.60415874e+00,\n",
       "         2.33676459e+00, -1.34110414e+00, -1.20168697e+00],\n",
       "       [-8.80696034e-01, -1.08367731e+00, -1.31843375e+00,\n",
       "        -1.09577404e+00,  1.53650967e+00,  6.36959760e-01],\n",
       "       [ 1.39206792e+00,  1.77652018e+00,  1.41407143e+00,\n",
       "         2.08218011e+00, -1.14667077e+00, -6.76359332e-01],\n",
       "       [-8.80696034e-01, -9.14907894e-01, -4.63040822e-01,\n",
       "        -9.70657735e-01,  4.08796152e-01, -9.39023151e-01],\n",
       "       [-8.80696034e-01, -5.32956055e-01, -8.43215455e-01,\n",
       "        -6.35563631e-01,  1.38096298e+00, -1.20168697e+00],\n",
       "       [ 1.39206792e+00,  1.04814691e+00,  1.01013588e+00,\n",
       "         4.82867340e-01, -1.72997087e+00, -1.46435079e+00],\n",
       "       [ 1.39206792e+00,  1.77652018e+00,  1.96057246e+00,\n",
       "         1.55560366e+00, -1.14667077e+00, -9.39023151e-01],\n",
       "       [-8.80696034e-01, -9.14907894e-01, -3.67997164e-01,\n",
       "        -7.66119776e-01,  6.03229517e-01, -9.39023151e-01],\n",
       "       [ 1.39206792e+00,  1.77652018e+00,  1.72296332e+00,\n",
       "         1.33583415e+00, -1.69108420e+00,  3.74295941e-01],\n",
       "       [-8.80696034e-01, -9.77086101e-01, -8.90737284e-01,\n",
       "        -1.14799650e+00, -4.85597331e-01,  1.11632123e-01],\n",
       "       [-8.80696034e-01, -6.92842872e-01, -5.34323566e-01,\n",
       "        -7.42184482e-01,  1.18652961e+00, -6.76359332e-01],\n",
       "       [-8.80696034e-01, -9.68203500e-01, -1.12834643e+00,\n",
       "        -1.29704810e+00,  3.69909478e-01,  6.36959760e-01],\n",
       "       [ 2.55685945e-01,  4.44130046e-01, -1.77909848e-01,\n",
       "         3.15320288e-01, -1.74503946e-01, -1.20168697e+00],\n",
       "       [-8.80696034e-01, -7.10608073e-01, -7.71932711e-01,\n",
       "        -4.89775936e-01,  7.97662883e-01,  1.16228740e+00],\n",
       "       [-8.80696034e-01, -1.07479471e+00, -9.62020028e-01,\n",
       "        -1.11970933e+00,  1.99294200e-02, -4.13695514e-01],\n",
       "       [ 2.55685945e-01,  4.44130046e-01, -2.25431677e-01,\n",
       "         5.79696481e-01,  1.38096298e+00,  3.74295941e-01],\n",
       "       [ 1.39206792e+00,  1.33239014e+00,  1.24774503e+00,\n",
       "         1.59259457e+00, -7.57804043e-01, -9.39023151e-01],\n",
       "       [ 1.39206792e+00,  9.06025294e-01,  5.11156674e-01,\n",
       "         1.92379919e-01, -1.34110414e+00, -1.51031696e-01],\n",
       "       [-8.80696034e-01, -1.07479471e+00, -9.62020028e-01,\n",
       "        -1.07945452e+00,  2.14362786e-01, -4.13695514e-01],\n",
       "       [-8.80696034e-01, -9.14907894e-01, -7.71932711e-01,\n",
       "        -9.10819502e-01,  3.69909478e-01,  1.11632123e-01],\n",
       "       [ 1.39206792e+00,  1.33239014e+00,  1.72296332e+00,\n",
       "         7.30924015e-01, -1.72997087e+00, -6.76359332e-01],\n",
       "       [-8.80696034e-01, -9.06025294e-01, -9.38259113e-01,\n",
       "        -1.03049597e+00,  1.18652961e+00,  3.74295941e-01],\n",
       "       [ 2.55685945e-01,  2.22065023e-01, -1.77909848e-01,\n",
       "         6.93933107e-01,  8.75436230e-01,  3.74295941e-01],\n",
       "       [ 2.55685945e-01,  2.75360628e-01,  5.96992978e-02,\n",
       "         4.60020015e-01,  1.36589439e-01,  1.42495121e+00],\n",
       "       [ 1.39206792e+00,  1.34127274e+00,  9.86374965e-01,\n",
       "         1.46095046e+00, -3.68937312e-01,  3.74295941e-01],\n",
       "       [-8.80696034e-01, -5.32956055e-01, -7.00649968e-01,\n",
       "        -4.35377543e-01,  1.18652961e+00, -1.51031696e-01],\n",
       "       [ 1.39206792e+00,  9.23790495e-01,  2.97308443e-01,\n",
       "         1.05513844e+00, -6.02257351e-01,  1.11632123e-01],\n",
       "       [ 1.39206792e+00,  1.34127274e+00,  1.08141862e+00,\n",
       "         1.23682908e+00, -9.52237409e-01, -9.39023151e-01],\n",
       "       [-8.80696034e-01, -7.90551482e-01, -6.53128139e-01,\n",
       "        -9.10819502e-01, -2.52277292e-01,  3.74295941e-01],\n",
       "       [-8.80696034e-01, -7.19490674e-01, -2.49192591e-01,\n",
       "        -7.53064161e-01, -2.91163965e-01,  6.36959760e-01],\n",
       "       [ 2.55685945e-01,  2.84243229e-01,  1.07221127e-01,\n",
       "        -1.71001350e-01, -2.91163965e-01,  1.68761503e+00],\n",
       "       [ 2.55685945e-01,  0.00000000e+00, -5.34323566e-01,\n",
       "        -2.36633012e-03,  1.06986960e+00,  8.99623578e-01],\n",
       "       [ 1.39206792e+00,  2.03411561e+00,  2.15065978e+00,\n",
       "         2.13222663e+00, -1.53553751e+00, -6.76359332e-01],\n",
       "       [ 2.55685945e-01, -3.28656234e-01,  6.06200332e-01,\n",
       "         4.54580176e-01,  1.36589439e-01,  6.36959760e-01],\n",
       "       [-8.80696034e-01, -4.35247445e-01, -4.15518993e-01,\n",
       "        -4.58850450e-02,  7.19889537e-01,  1.68761503e+00],\n",
       "       [-8.80696034e-01, -9.14907894e-01, -1.12834643e+00,\n",
       "        -1.26005719e+00,  1.38096298e+00, -1.20168697e+00],\n",
       "       [-8.80696034e-01, -6.92842872e-01, -5.10562651e-01,\n",
       "        -6.49707213e-01,  2.14362786e-01, -9.39023151e-01],\n",
       "       [-8.80696034e-01, -7.55021078e-01, -2.96714420e-01,\n",
       "        -3.24404820e-01, -1.74503946e-01, -1.51031696e-01],\n",
       "       [ 2.55685945e-01, -2.84243229e-01,  2.02264785e-01,\n",
       "        -1.00283439e-01, -1.10778410e+00,  1.42495121e+00],\n",
       "       [-8.80696034e-01, -7.01725472e-01,  5.96992978e-02,\n",
       "        -3.61395728e-01, -5.63370677e-01, -6.76359332e-01],\n",
       "       [ 1.39206792e+00,  9.23790495e-01,  1.01013588e+00,\n",
       "         4.79603437e-01, -1.34110414e+00, -1.46435079e+00],\n",
       "       [-8.80696034e-01, -9.77086101e-01, -7.71932711e-01,\n",
       "        -9.43458539e-01, -3.68937312e-01, -4.13695514e-01],\n",
       "       [ 2.55685945e-01,  2.84243229e-01, -4.15518993e-01,\n",
       "         2.36986602e-01,  6.81002864e-01,  6.36959760e-01],\n",
       "       [ 1.39206792e+00,  1.33239014e+00, -5.91052749e-02,\n",
       "         7.97290055e-01,  1.38096298e+00,  1.42495121e+00],\n",
       "       [ 1.39206792e+00,  1.33239014e+00,  1.12894045e+00,\n",
       "         1.48814965e+00, -2.13390619e-01,  8.99623578e-01],\n",
       "       [ 1.39206792e+00,  9.50438298e-01,  2.19818161e+00,\n",
       "         1.50555714e+00, -1.74503946e-01, -1.46435079e+00],\n",
       "       [ 1.39206792e+00,  9.06025294e-01,  7.01243991e-01,\n",
       "         1.14217587e+00, -3.68937312e-01, -6.76359332e-01],\n",
       "       [-8.80696034e-01, -9.14907894e-01, -7.71932711e-01,\n",
       "        -8.93412017e-01,  2.14362786e-01, -1.51031696e-01],\n",
       "       [ 1.39206792e+00,  9.06025294e-01,  7.72526734e-01,\n",
       "         1.41634377e+00,  2.14362786e-01, -9.39023151e-01],\n",
       "       [-8.80696034e-01, -5.32956055e-01, -8.43215455e-01,\n",
       "        -4.64752675e-01, -7.18917370e-01,  1.11632123e-01],\n",
       "       [-8.80696034e-01, -1.01261650e+00, -1.00954186e+00,\n",
       "        -1.10665372e+00, -9.67305995e-02,  8.99623578e-01]])"
      ]
     },
     "execution_count": 33,
     "metadata": {},
     "output_type": "execute_result"
    }
   ],
   "source": [
    "x_test"
   ]
  }
 ],
 "metadata": {
  "kernelspec": {
   "display_name": "Python 3.10.8 64-bit",
   "language": "python",
   "name": "python3"
  },
  "language_info": {
   "codemirror_mode": {
    "name": "ipython",
    "version": 3
   },
   "file_extension": ".py",
   "mimetype": "text/x-python",
   "name": "python",
   "nbconvert_exporter": "python",
   "pygments_lexer": "ipython3",
   "version": "3.10.8"
  },
  "orig_nbformat": 4,
  "vscode": {
   "interpreter": {
    "hash": "356b66a6bff0e4a2ba9d42a520ab49a74fa3b4aa10c1049bb095a9274a4b55c3"
   }
  }
 },
 "nbformat": 4,
 "nbformat_minor": 2
}
